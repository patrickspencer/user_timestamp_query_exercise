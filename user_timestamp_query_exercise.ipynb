{
  "nbformat": 4,
  "nbformat_minor": 0,
  "metadata": {
    "colab": {
      "provenance": [],
      "authorship_tag": "ABX9TyNSL8g3dwluRatugm/aCOaM",
      "include_colab_link": true
    },
    "kernelspec": {
      "name": "python3",
      "display_name": "Python 3"
    },
    "language_info": {
      "name": "python"
    }
  },
  "cells": [
    {
      "cell_type": "markdown",
      "metadata": {
        "id": "view-in-github",
        "colab_type": "text"
      },
      "source": [
        "<a href=\"https://colab.research.google.com/github/patrickspencer/user_timestamp_query_exercise/blob/main/user_timestamp_query_exercise.ipynb\" target=\"_parent\"><img src=\"https://colab.research.google.com/assets/colab-badge.svg\" alt=\"Open In Colab\"/></a>"
      ]
    },
    {
      "cell_type": "markdown",
      "source": [
        "# Data classes Without"
      ],
      "metadata": {
        "id": "D3hdKBM7FRrr"
      }
    },
    {
      "cell_type": "code",
      "source": [
        "import pandas as pd\n",
        "from collections import defaultdict\n",
        "\n",
        "def read_file(f):\n",
        "    try:\n",
        "        df = pd.read_csv(f, sep='\\t', \n",
        "                         dtype = {'user': str, 'timestamp': int, 'query': str})\n",
        "        # columns: user, timestamp, text\n",
        "        return [(r[0], r[1], r[2]) for _, r in df.iterrows()]\n",
        "    except FileNotFoundError:\n",
        "        print(f\"File {f} not found.\")\n",
        "\n",
        "\n",
        "def parse(inputs):\n",
        "    # dict: user -> list of sessions\n",
        "    sessions = defaultdict(list)\n",
        "\n",
        "    for i in inputs:\n",
        "        u, ts, t = i # user, timestamp, text\n",
        "        q = (ts, t) # query\n",
        "        s = sessions[u] # session list\n",
        "        \n",
        "        if s and ts - s[-1][-1][0] <= 3*60:\n",
        "            s[-1].append(q)\n",
        "        else:\n",
        "            # s[-1][-1][0] always exists\n",
        "            s.append([q])\n",
        "\n",
        "    return sessions\n"
      ],
      "metadata": {
        "id": "r2-pJcZ7Ivgt"
      },
      "execution_count": 475,
      "outputs": []
    },
    {
      "cell_type": "code",
      "source": [
        "# test read_file function\n",
        "file_name = 'user_timestamp_query_data.tsv'\n",
        "inputs = read_file(file_name)\n",
        "inputs"
      ],
      "metadata": {
        "colab": {
          "base_uri": "https://localhost:8080/"
        },
        "id": "2bzgyixWMFB6",
        "outputId": "45dd87fe-0c5d-472f-e17d-64ef7904fe34"
      },
      "execution_count": 476,
      "outputs": [
        {
          "output_type": "execute_result",
          "data": {
            "text/plain": [
              "[('u1', 123, 'q_u1_a'),\n",
              " ('u2', 1000, 'q_u2_a'),\n",
              " ('u2', 1001, 'q_u2_b'),\n",
              " ('u1', 124, 'q_u1_b'),\n",
              " ('u1', 400, 'q_u1_c'),\n",
              " ('u3', 2000, 'q_u3_a')]"
            ]
          },
          "metadata": {},
          "execution_count": 476
        }
      ]
    },
    {
      "cell_type": "code",
      "source": [
        "# test parse function\n",
        "inputs = [\n",
        "    ('u1', 123, 'q_u1_a'), \n",
        "    ('u2', 1000, 'q_u2_a'), \n",
        "    ('u2', 1001, 'q_u2_b'), \n",
        "    ('u1', 124, 'q_u1_b'), \n",
        "    ('u1', 400, 'q_u1_c'), \n",
        "    ('u3', 2000, 'q_u3_a'),\n",
        "    ('u3', 3000, 'q_u3_b')\n",
        "]\n",
        "parse(inputs)"
      ],
      "metadata": {
        "colab": {
          "base_uri": "https://localhost:8080/"
        },
        "id": "yhmF6wYJLflv",
        "outputId": "e0c67f9c-f858-47f9-a968-85c4e342a13f"
      },
      "execution_count": null,
      "outputs": [
        {
          "output_type": "execute_result",
          "data": {
            "text/plain": [
              "defaultdict(list,\n",
              "            {'u1': [[(123, 'q_u1_a'), (124, 'q_u1_b')], [(400, 'q_u1_c')]],\n",
              "             'u2': [[(1000, 'q_u2_a'), (1001, 'q_u2_b')]],\n",
              "             'u3': [[(2000, 'q_u3_a')], [(3000, 'q_u3_b')]]})"
            ]
          },
          "metadata": {},
          "execution_count": 473
        }
      ]
    },
    {
      "cell_type": "code",
      "source": [
        "# putting it together\n",
        "file_name = 'user_timestamp_query_data.tsv'\n",
        "inputs = read_file(file_name)\n",
        "parse(inputs)"
      ],
      "metadata": {
        "colab": {
          "base_uri": "https://localhost:8080/"
        },
        "id": "6EOSKQyTMISP",
        "outputId": "aa9ae4e7-1766-40f8-988f-6249cbd862da"
      },
      "execution_count": null,
      "outputs": [
        {
          "output_type": "execute_result",
          "data": {
            "text/plain": [
              "defaultdict(list,\n",
              "            {'u1': [[(123, 'q_u1_a'), (124, 'q_u1_b')], [(400, 'q_u1_c')]],\n",
              "             'u2': [[(1000, 'q_u2_a'), (1001, 'q_u2_b')]],\n",
              "             'u3': [[(2000, 'q_u3_a')]]})"
            ]
          },
          "metadata": {},
          "execution_count": 474
        }
      ]
    },
    {
      "cell_type": "markdown",
      "source": [
        "# With classes"
      ],
      "metadata": {
        "id": "ueMjF0NtRPxc"
      }
    },
    {
      "cell_type": "code",
      "execution_count": null,
      "metadata": {
        "id": "nz1YBe28HB_t"
      },
      "outputs": [],
      "source": [
        "from collections import defaultdict\n",
        "from dataclasses import dataclass, field\n",
        "from typing import List, TypedDict"
      ]
    },
    {
      "cell_type": "code",
      "source": [
        "@dataclass\n",
        "class Query:\n",
        "    user: str\n",
        "    ts: int\n",
        "    text: str\n",
        "\n",
        "@dataclass\n",
        "class Session:\n",
        "    queries: List[Query] = field(default_factory=lambda: [])\n",
        "\n",
        "    @property\n",
        "    def last_query(self):\n",
        "        return self.queries[-1] if self.queries else None\n",
        "\n",
        "    def add(self, query):\n",
        "        self.queries.append(query)\n",
        "\n",
        "@dataclass\n",
        "class SessionList:\n",
        "    sessions: List[Session] = field(default_factory=lambda: [])\n",
        "\n",
        "    @property\n",
        "    def last_session(self):\n",
        "        # last session in session list\n",
        "        return self.sessions[-1] if self.sessions else None\n",
        "    \n",
        "    @property\n",
        "    def last_query(self):\n",
        "        # last query in last session\n",
        "        return self.last_session.last_query if self.last_session else None\n",
        "    \n",
        "    @property\n",
        "    def last_ts(self):\n",
        "        # last timestamp in last query\n",
        "        return self.last_query.ts if self.last_query else None\n",
        "    \n",
        "    def add_new_session_from_query(self, query):\n",
        "        \"\"\"\n",
        "        Wrap query object in session wrapper and add to sessions list\n",
        "        \"\"\"\n",
        "        new_query_list = [query]\n",
        "        new_session_list = Session(new_query_list)\n",
        "        self.sessions.append(new_session_list)\n",
        "    \n",
        "    def add(self, query):\n",
        "        if not self.sessions:\n",
        "            self.add_new_session_from_query(query)\n",
        "        elif self.last_ts:\n",
        "            if query.ts - self.last_ts < 3*60:\n",
        "                self.last_session.add(query)\n",
        "            else:\n",
        "                self.add_new_session_from_query(query)\n",
        "        \n",
        "@dataclass\n",
        "class UserSessions(TypedDict):\n",
        "    user: str\n",
        "    sessions: SessionList"
      ],
      "metadata": {
        "id": "vNKlAXuGRTqE"
      },
      "execution_count": null,
      "outputs": []
    },
    {
      "cell_type": "code",
      "source": [
        "input = ('u1', 123, 'qA')\n",
        "q = Query(*input)"
      ],
      "metadata": {
        "id": "II2iY8SCjZlE"
      },
      "execution_count": null,
      "outputs": []
    },
    {
      "cell_type": "code",
      "source": [
        "s = SessionList()\n",
        "s"
      ],
      "metadata": {
        "colab": {
          "base_uri": "https://localhost:8080/"
        },
        "id": "gPYbHcN9jXtM",
        "outputId": "3851696b-ca70-42ab-a316-bcd4fcd46752"
      },
      "execution_count": null,
      "outputs": [
        {
          "output_type": "execute_result",
          "data": {
            "text/plain": [
              "SessionList(sessions=[])"
            ]
          },
          "metadata": {},
          "execution_count": 384
        }
      ]
    },
    {
      "cell_type": "code",
      "source": [
        "s.add_new_session_from_query(q)"
      ],
      "metadata": {
        "id": "0JLtm3EmkJGF"
      },
      "execution_count": null,
      "outputs": []
    },
    {
      "cell_type": "code",
      "source": [
        "s"
      ],
      "metadata": {
        "colab": {
          "base_uri": "https://localhost:8080/"
        },
        "id": "Yuzy_f4ZkM6_",
        "outputId": "90d63b1a-3e28-4122-aa58-9ff45d0ac0da"
      },
      "execution_count": null,
      "outputs": [
        {
          "output_type": "execute_result",
          "data": {
            "text/plain": [
              "SessionList(sessions=[Session(queries=[Query(user='u1', ts=123, text='qA')])])"
            ]
          },
          "metadata": {},
          "execution_count": 386
        }
      ]
    },
    {
      "cell_type": "code",
      "source": [
        "input = ('u1', 456, 'qB')\n",
        "user, ts, text = input\n",
        "q2 = Query(*input)\n",
        "s.add_new_session_from_query(q2)"
      ],
      "metadata": {
        "id": "s_GNv7dtkcrw"
      },
      "execution_count": null,
      "outputs": []
    },
    {
      "cell_type": "code",
      "source": [
        "s"
      ],
      "metadata": {
        "colab": {
          "base_uri": "https://localhost:8080/"
        },
        "id": "5PqnnqCwkhlg",
        "outputId": "617eb594-7f72-4236-ff5c-d0d3a3ee1c6c"
      },
      "execution_count": null,
      "outputs": [
        {
          "output_type": "execute_result",
          "data": {
            "text/plain": [
              "SessionList(sessions=[Session(queries=[Query(ts=123, text='qA')])])"
            ]
          },
          "metadata": {},
          "execution_count": 367
        }
      ]
    },
    {
      "cell_type": "code",
      "source": [
        "input = ('u1', 456, 'qB')\n",
        "q3 = Query(*input)\n",
        "s.add(q3)\n",
        "s"
      ],
      "metadata": {
        "colab": {
          "base_uri": "https://localhost:8080/"
        },
        "id": "JBUjxcV6il38",
        "outputId": "15020c2f-3eb0-4ddb-e587-f61ae0a9b670"
      },
      "execution_count": null,
      "outputs": [
        {
          "output_type": "execute_result",
          "data": {
            "text/plain": [
              "SessionList(sessions=[Session(queries=[Query(user='u1', ts=123, text='qA')]), Session(queries=[Query(user='u1', ts=456, text='qB'), Query(user='u1', ts=456, text='qB')])])"
            ]
          },
          "metadata": {},
          "execution_count": 388
        }
      ]
    },
    {
      "cell_type": "code",
      "source": [
        "input = ('u1', 1000, 'qB')\n",
        "q4 = Query(*input)\n",
        "s.add(q4)\n",
        "s"
      ],
      "metadata": {
        "colab": {
          "base_uri": "https://localhost:8080/"
        },
        "id": "Ez10YWO07w1b",
        "outputId": "59d02623-b569-4ce8-cd01-62681a3d9e8e"
      },
      "execution_count": null,
      "outputs": [
        {
          "output_type": "execute_result",
          "data": {
            "text/plain": [
              "SessionList(sessions=[Session(queries=[Query(user='u1', ts=123, text='qA')]), Session(queries=[Query(user='u1', ts=456, text='qB'), Query(user='u1', ts=456, text='qB')]), Session(queries=[Query(user='u1', ts=1000, text='qB'), Query(user='u1', ts=1000, text='qB'), Query(user='u1', ts=1000, text='qB')])])"
            ]
          },
          "metadata": {},
          "execution_count": 391
        }
      ]
    },
    {
      "cell_type": "code",
      "source": [
        "all_user_sessions = UserSessions()\n",
        "inputs = [('u1', 123, 'qA'), ('u2', 1000, 'qB'), ('u1', 124, 'qC'), ('u1', 2000, 'qC')]"
      ],
      "metadata": {
        "id": "n5yrHeoD82Cs"
      },
      "execution_count": null,
      "outputs": []
    },
    {
      "cell_type": "code",
      "source": [
        "all_user_sessions = UserSessions()\n",
        "inputs = [('u1', 123, 'qA'), ('u2', 1000, 'qB'), ('u1', 124, 'qC'), ('u1', 2000, 'qC')]\n",
        "for input in inputs:\n",
        "    user, ts, text = input\n",
        "    q = Query(ts, text)\n",
        "    if user not in all_user_sessions:\n",
        "        all_user_sessions[user] = SessionList()\n",
        "    all_user_sessions[user].add(q)\n",
        "all_user_sessions"
      ],
      "metadata": {
        "colab": {
          "base_uri": "https://localhost:8080/"
        },
        "id": "AlemX7hk83CL",
        "outputId": "3cce7273-dfed-449c-d502-d11c20ecd765"
      },
      "execution_count": null,
      "outputs": [
        {
          "output_type": "execute_result",
          "data": {
            "text/plain": [
              "{'u1': SessionList(sessions=[Session(queries=[Query(ts=123, text='qA'), Query(ts=124, text='qC')]), Session(queries=[Query(ts=2000, text='qC')])]),\n",
              " 'u2': SessionList(sessions=[Session(queries=[Query(ts=1000, text='qB')])])}"
            ]
          },
          "metadata": {},
          "execution_count": 377
        }
      ]
    },
    {
      "cell_type": "code",
      "source": [],
      "metadata": {
        "id": "j5ncX6V2MLJP"
      },
      "execution_count": null,
      "outputs": []
    }
  ]
}